{
 "cells": [
  {
   "cell_type": "code",
   "execution_count": 4,
   "id": "b5280aa7",
   "metadata": {},
   "outputs": [
    {
     "name": "stdout",
     "output_type": "stream",
     "text": [
      "=== Метод простой итерации ===\n",
      "ВАЖНО: Сначала преобразуйте уравнение f(x)=0 в вид x = g(x)\n",
      "\n",
      "РЕЗУЛЬТАТ:\n",
      "Корень: 2.98822447\n",
      "Число итераций: 7\n",
      "Проверка: g(2.98822447) = 2.98826214\n"
     ]
    }
   ],
   "source": [
    "import math\n",
    "\n",
    "def derivative(g, x, h=1e-5):\n",
    "    \"\"\"Вычисляет численную производную функции g в точке x.\"\"\"\n",
    "    try:\n",
    "        return (g(x + h) - g(x - h)) / (2 * h)\n",
    "    except Exception as e:\n",
    "        print(f\"Ошибка при вычислении производной: {e}\")\n",
    "        return None\n",
    "\n",
    "def simple_iteration(g, x0, epsilon=1e-6, max_iter=1000):\n",
    "    \"\"\"Решает уравнение x = g(x) методом простой итерации.\"\"\"\n",
    "    x_prev = x0\n",
    "    for i in range(max_iter):\n",
    "        try:\n",
    "            x_next = g(x_prev)\n",
    "        except Exception as e:\n",
    "            print(f\"Ошибка при вычислении g(x_prev): {e}\")\n",
    "            return None, i + 1\n",
    "        \n",
    "        if abs(x_next - x_prev) < epsilon:\n",
    "            return x_next, i + 1\n",
    "        \n",
    "        # Проверяем сходимость через производную\n",
    "        deriv = derivative(g, x_prev)\n",
    "        if deriv is not None and abs(deriv) >= 1:\n",
    "            print(f\"Внимание: |g'(x)| = {abs(deriv):.6f} >= 1 в точке x = {x_prev:.6f}. Сходимость не гарантируется!\")\n",
    "        \n",
    "        x_prev = x_next\n",
    "    \n",
    "    print(\"Достигнуто максимальное число итераций\")\n",
    "    return x_prev, max_iter\n",
    "\n",
    "# Запрос данных у пользователя\n",
    "print(\"=== Метод простой итерации ===\")\n",
    "print(\"ВАЖНО: Сначала преобразуйте уравнение f(x)=0 в вид x = g(x)\")\n",
    "g_str = input(\"Введите функцию g(x) (используйте math. для математических функций, например: '2 - math.cos(x)'): \")\n",
    "x0_str = input(\"Введите начальное приближение x0: \")\n",
    "epsilon_str = input(\"Введите точность (epsilon, по умолчанию 1e-6): \")\n",
    "max_iter_str = input(\"Введите максимальное число итераций (по умолчанию 1000): \")\n",
    "\n",
    "# Обработка ввода\n",
    "try:\n",
    "    x0 = float(x0_str)\n",
    "except ValueError:\n",
    "    print(\"Ошибка: начальное приближение должно быть числом!\")\n",
    "    exit(1)\n",
    "\n",
    "epsilon = float(epsilon_str) if epsilon_str else 1e-6\n",
    "max_iter = int(max_iter_str) if max_iter_str else 1000\n",
    "\n",
    "# Создаем функцию g(x) из строки\n",
    "try:\n",
    "    g = lambda x: eval(g_str, {\"math\": math, \"__builtins__\": None}, {\"x\": x})\n",
    "except Exception as e:\n",
    "    print(f\"Ошибка в выражении g(x): {e}\")\n",
    "    print(\"Пример корректного ввода: '2 - math.cos(x)'\")\n",
    "    exit(1)\n",
    "\n",
    "# Решение уравнения\n",
    "root, iterations = simple_iteration(g, x0, epsilon, max_iter)\n",
    "if root is not None:\n",
    "    print(f\"\\nРЕЗУЛЬТАТ:\")\n",
    "    print(f\"Корень: {root:.8f}\")\n",
    "    print(f\"Число итераций: {iterations}\")\n",
    "    print(f\"Проверка: g({root:.8f}) = {g(root):.8f}\")\n",
    "else:\n",
    "    print(\"\\nРешение не найдено\")"
   ]
  },
  {
   "cell_type": "code",
   "execution_count": null,
   "id": "91c50f5a",
   "metadata": {},
   "outputs": [],
   "source": []
  }
 ],
 "metadata": {
  "kernelspec": {
   "display_name": "Python 3",
   "language": "python",
   "name": "python3"
  },
  "language_info": {
   "codemirror_mode": {
    "name": "ipython",
    "version": 3
   },
   "file_extension": ".py",
   "mimetype": "text/x-python",
   "name": "python",
   "nbconvert_exporter": "python",
   "pygments_lexer": "ipython3",
   "version": "3.15.0a1"
  }
 },
 "nbformat": 4,
 "nbformat_minor": 5
}
